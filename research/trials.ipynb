{
 "cells": [
  {
   "cell_type": "code",
   "execution_count": 1,
   "metadata": {},
   "outputs": [],
   "source": [
    "# knowing about these below functions i make profision of code\n",
    "\n",
    "from ensure import ensure_annotations\n",
    "from box import ConfigBox\n",
    "from pathlib import Path"
   ]
  },
  {
   "cell_type": "code",
   "execution_count": 7,
   "metadata": {},
   "outputs": [
    {
     "name": "stdout",
     "output_type": "stream",
     "text": [
      "Script name: /home/nani/anaconda3/envs/mlflow/lib/python3.11/site-packages/ipykernel_launcher.py\n",
      "Arguments: ['--f=/home/nani/.local/share/jupyter/runtime/kernel-v2-36816U5TYPAbZ6J2.json']\n",
      "Arguments: ['/home/nani/anaconda3/envs/mlflow/lib/python3.11/site-packages/ipykernel_launcher.py', '--f=/home/nani/.local/share/jupyter/runtime/kernel-v2-36816U5TYPAbZ6J2.json']\n"
     ]
    },
    {
     "ename": "SystemExit",
     "evalue": "This program is exiting.",
     "output_type": "error",
     "traceback": [
      "An exception has occurred, use %tb to see the full traceback.\n",
      "\u001b[0;31mSystemExit\u001b[0m\u001b[0;31m:\u001b[0m This program is exiting.\n"
     ]
    }
   ],
   "source": [
    "import sys\n",
    "\n",
    "print(\"Script name:\", sys.argv[0])\n",
    "print(\"Arguments:\", sys.argv[1:])\n",
    "print(\"Arguments:\", sys.argv)\n",
    "sys.exit(\"This program is exiting.\")"
   ]
  },
  {
   "cell_type": "code",
   "execution_count": 9,
   "metadata": {},
   "outputs": [
    {
     "name": "stdout",
     "output_type": "stream",
     "text": [
      "Module search path: <ipykernel.iostream.OutStream object at 0x7f30664aeb30>\n"
     ]
    }
   ],
   "source": [
    "\n",
    "print(\"Module search path:\", sys.stdout)"
   ]
  },
  {
   "cell_type": "code",
   "execution_count": null,
   "metadata": {},
   "outputs": [],
   "source": []
  }
 ],
 "metadata": {
  "kernelspec": {
   "display_name": "mlflow",
   "language": "python",
   "name": "python3"
  },
  "language_info": {
   "codemirror_mode": {
    "name": "ipython",
    "version": 3
   },
   "file_extension": ".py",
   "mimetype": "text/x-python",
   "name": "python",
   "nbconvert_exporter": "python",
   "pygments_lexer": "ipython3",
   "version": "3.11.7"
  }
 },
 "nbformat": 4,
 "nbformat_minor": 2
}
